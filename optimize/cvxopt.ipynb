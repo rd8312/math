{
 "cells": [
  {
   "cell_type": "markdown",
   "metadata": {},
   "source": [
    "# CVXOPT\n",
    "- CVXOPT is a free software package for convex optimization based on the Python programming language.\n",
    "- ref: https://cvxopt.org/"
   ]
  },
  {
   "cell_type": "markdown",
   "metadata": {},
   "source": [
    "## Q1: Advertising-Mix Problem\n",
    "- ref: https://www.youtube.com/watch?v=d_D50ENWWKg&list=PLdYmuqrR3BQbsvmzv3ydqhz5OkRFHcWm5&index=19&ab_channel=Chih-huaHsu"
   ]
  },
  {
   "cell_type": "markdown",
   "metadata": {},
   "source": [
    "![ad-mix_1](pictures/ad-mix1.png)\n",
    "![ad-mix_2](pictures/ad-mix2.png)"
   ]
  },
  {
   "cell_type": "code",
   "execution_count": 2,
   "metadata": {},
   "outputs": [
    {
     "name": "stdout",
     "output_type": "stream",
     "text": [
      "     pcost       dcost       gap    pres   dres   k/t\n",
      " 0: -1.1208e+04 -4.7792e+04  3e+02  5e-03  3e+00  1e+00\n",
      " 1: -1.2008e+04 -5.3694e+04  3e+03  5e-03  3e+00  4e+01\n",
      " 2: -1.4031e+04 -2.0942e+04  1e+03  9e-04  5e-01  7e+01\n",
      " 3: -1.4391e+04 -1.4609e+04  3e+01  3e-05  2e-02  5e+00\n",
      " 4: -1.4400e+04 -1.4402e+04  3e-01  3e-07  2e-04  5e-02\n",
      " 5: -1.4400e+04 -1.4400e+04  3e-03  3e-09  2e-06  5e-04\n",
      " 6: -1.4400e+04 -1.4400e+04  3e-05  3e-11  2e-08  5e-06\n",
      "Optimal solution found.\n",
      "Optimal solution found:\n",
      "Number of TV commercials (TV): 0.00\n",
      "Number of magazine ads (M): 24.00\n",
      "Maximum exposure: 14400.00\n"
     ]
    }
   ],
   "source": [
    "from cvxopt import matrix, solvers\n",
    "\n",
    "# Define the coefficients of the objective function\n",
    "c = matrix([-1000.0, -600.0])  # Maximize 1000 * TV + 600 * M (negative for minimization)\n",
    "\n",
    "# Define the inequality constraint matrix (A) and vector (b)\n",
    "A = matrix([\n",
    "    [300.0, 150.0],  # Coefficients for TV in constraints\n",
    "    [90.0, 30.0],  # Coefficients for M in constraints\n",
    "    [-1.0, 0.0],    # TV >= 0\n",
    "    [0.0, -1.0]     # M >= 0\n",
    "]).T  # Transpose to match CVXOPT's expected shape\n",
    "\n",
    "b = matrix([3600.0, 1200.0, 0.0, 0.0])  # Right-hand side of the inequality constraints\n",
    "\n",
    "# Solve the problem\n",
    "solution = solvers.lp(c, A, b)\n",
    "\n",
    "# Display the results\n",
    "if solution['status'] == 'optimal':\n",
    "    print(\"Optimal solution found:\")\n",
    "    print(f\"Number of TV commercials (TV): {solution['x'][0]:.2f}\")\n",
    "    print(f\"Number of magazine ads (M): {solution['x'][1]:.2f}\")\n",
    "    print(f\"Maximum exposure: {-solution['primal objective']:.2f}\")  # Negate for maximization\n",
    "else:\n",
    "    print(\"Optimization failed:\", solution['status'])\n"
   ]
  },
  {
   "cell_type": "code",
   "execution_count": null,
   "metadata": {},
   "outputs": [],
   "source": []
  }
 ],
 "metadata": {
  "kernelspec": {
   "display_name": "adapt",
   "language": "python",
   "name": "python3"
  },
  "language_info": {
   "codemirror_mode": {
    "name": "ipython",
    "version": 3
   },
   "file_extension": ".py",
   "mimetype": "text/x-python",
   "name": "python",
   "nbconvert_exporter": "python",
   "pygments_lexer": "ipython3",
   "version": "3.9.21"
  }
 },
 "nbformat": 4,
 "nbformat_minor": 2
}
