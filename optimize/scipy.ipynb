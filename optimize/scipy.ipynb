{
 "cells": [
  {
   "cell_type": "markdown",
   "metadata": {},
   "source": [
    "# Optimization\n",
    "- 用於求非線性規劃問題的解，將問題表述為若干個變量的 純量函數(Scalar Function, e.g. P(x,y) Q(x, y))的最小值\n",
    "- [scipy.optimize](https://docs.scipy.org/doc/scipy/tutorial/optimize.html)"
   ]
  },
  {
   "cell_type": "markdown",
   "metadata": {},
   "source": [
    "## Q1"
   ]
  },
  {
   "cell_type": "markdown",
   "metadata": {},
   "source": [
    "![function_1](pictures/fn1.png)"
   ]
  },
  {
   "cell_type": "code",
   "execution_count": 1,
   "metadata": {},
   "outputs": [
    {
     "name": "stdout",
     "output_type": "stream",
     "text": [
      "最小函數值: 2.0000000815356342\n",
      "對應的 x 值: 1.000285585222987\n"
     ]
    }
   ],
   "source": [
    "# ref: https://0809zheng.github.io/2021/08/23/minimize.html\n",
    "from scipy.optimize import minimize\n",
    "import numpy as np\n",
    "\n",
    "# minimize a function\n",
    "def fun(x):\n",
    "    return x+1/x\n",
    "\n",
    "x0 = np.array([2])\n",
    "res = minimize(fun, x0, method='SLSQP')\n",
    "# 輸出最小函數值和對應的 x 值\n",
    "print(f\"最小函數值: {res.fun}\")\n",
    "print(f\"對應的 x 值: {res.x[0]}\")"
   ]
  },
  {
   "cell_type": "markdown",
   "metadata": {},
   "source": [
    "![function_2](pictures/fn2.png)"
   ]
  },
  {
   "cell_type": "code",
   "execution_count": 6,
   "metadata": {},
   "outputs": [
    {
     "name": "stdout",
     "output_type": "stream",
     "text": [
      "-0.773684210526435\n",
      "[0.9 0.9 0.1]\n"
     ]
    }
   ],
   "source": [
    "from scipy.optimize import minimize\n",
    "import numpy as np\n",
    "\n",
    "# minimize a function with constraints\n",
    "def fn(x):\n",
    "    return (2+x[0])/(1+x[1])-3*x[0]+4*x[2]\n",
    "\n",
    "# initial guess\n",
    "x0 = np.array([0.5,0.5,0.5])\n",
    "\n",
    "# constraints\n",
    "# {Constraint, dict} or List of {Constraint, dict}, optional：約束條件，僅在SLSQP, COBYLA, trust-constr中使用\n",
    "# 约束以字典的形式给出，其keys包含：\n",
    "# type: str：约束类型。\"eq\" 等於0, \"ineq\" 大於等於 0\n",
    "# fun: callable：约束函数, 限制在 [0.1, 0.9] 之間\n",
    "cons = [{'type':'ineq', 'fun':lambda x:x[0]-0.1},\n",
    "        {'type':'ineq', 'fun':lambda x:-x[0]+0.9},\n",
    "        {'type':'ineq', 'fun':lambda x:x[1]-0.1},\n",
    "        {'type':'ineq', 'fun':lambda x:-x[1]+0.9},\n",
    "        {'type':'ineq', 'fun':lambda x:x[2]-0.1},\n",
    "        {'type':'ineq', 'fun':lambda x:-x[2]+0.9}]\n",
    "\n",
    "# minimize\n",
    "res = minimize(fn, x0, method='SLSQP', constraints=cons)\n",
    "print(res.fun)\n",
    "print(res.x)"
   ]
  },
  {
   "cell_type": "markdown",
   "metadata": {},
   "source": [
    "![function_3](pictures/fn3.png)"
   ]
  },
  {
   "cell_type": "code",
   "execution_count": 7,
   "metadata": {},
   "outputs": [
    {
     "name": "stdout",
     "output_type": "stream",
     "text": [
      "9.763212360886708\n",
      "[77.5        20.66666658]\n"
     ]
    }
   ],
   "source": [
    "from scipy.optimize import minimize\n",
    "import numpy as np\n",
    "\n",
    "def fn(x):\n",
    "    return np.log2(1+x[0]*2/3)+np.log2(1+x[1]*3/4)\n",
    "\n",
    "x0 = np.array([0.5,0.5])\n",
    "\n",
    "cons = [{'type':'ineq', 'fun':lambda x:np.log2(1+x[0]*2/5)-5},\n",
    "        {'type':'ineq', 'fun':lambda x:np.log2(1+x[1]*3/2)-5}]\n",
    "\n",
    "res = minimize(fn, x0, method='SLSQP', constraints=cons)\n",
    "print(res.fun)\n",
    "print(res.x)"
   ]
  },
  {
   "cell_type": "code",
   "execution_count": 11,
   "metadata": {},
   "outputs": [
    {
     "name": "stdout",
     "output_type": "stream",
     "text": [
      "-1.999999999777818\n",
      "13.0\n"
     ]
    }
   ],
   "source": [
    "# ref: https://web.ntnu.edu.tw/~tsungwu/Python_DevOps/Part1_Basics&Math/section3_optimization.html\n",
    "# 單變數: minimize_scalar\n",
    "# 極大值的解，根據scipy說明文件，須把函數取負值 (sign=-1) 來找極大值\n",
    "def f(x, sign=-1):\n",
    "        return sign*(2*x**3+3*x**2-12*x-7)\n",
    "\n",
    "from scipy.optimize import minimize_scalar\n",
    "Result = minimize_scalar(f)\n",
    "print(Result.x)\n",
    "\n",
    "# 極大值: 須把負號加回來\n",
    "print(-Result.fun)"
   ]
  },
  {
   "cell_type": "code",
   "execution_count": 13,
   "metadata": {},
   "outputs": [
    {
     "name": "stdout",
     "output_type": "stream",
     "text": [
      "[1.33333404 1.3333353 ]\n",
      "-1.1851851851810147\n"
     ]
    }
   ],
   "source": [
    "# 多變數: minimize\n",
    "# 求相對極小值\n",
    "def f(x, sign=1):\n",
    "    x1 = x[0]\n",
    "    x2 = x[1]\n",
    "    return sign*(x1**3-4*x1*x2 +2*x2**2)\n",
    "\n",
    "x0=[1,1]\n",
    "Result = minimize(f, x0)\n",
    "\n",
    "print(Result.x)\n",
    "print(Result.fun)"
   ]
  },
  {
   "cell_type": "markdown",
   "metadata": {},
   "source": [
    "## Q4: Advertising-Mix Problem\n",
    "- ref: https://www.youtube.com/watch?v=d_D50ENWWKg&list=PLdYmuqrR3BQbsvmzv3ydqhz5OkRFHcWm5&index=19&ab_channel=Chih-huaHsu"
   ]
  },
  {
   "cell_type": "markdown",
   "metadata": {},
   "source": [
    "![ad-mix_1](pictures/ad-mix1.png)\n",
    "![ad-mix_2](pictures/ad-mix2.png)"
   ]
  },
  {
   "cell_type": "code",
   "execution_count": 3,
   "metadata": {},
   "outputs": [
    {
     "name": "stdout",
     "output_type": "stream",
     "text": [
      "Optimal solution found:\n",
      "Number of TV commercials (TV): 0.00\n",
      "Number of magazine ads (M): 24.00\n",
      "Maximum exposure: 14400.00\n"
     ]
    }
   ],
   "source": [
    "from scipy.optimize import linprog\n",
    "\n",
    "# Coefficients for the objective function (negative for maximization)\n",
    "c = [-1000, -600]  # Maximize 1000 * TV + 600 * M\n",
    "\n",
    "# Coefficients for the inequality constraints\n",
    "A = [\n",
    "    [300, 150],  # Ad Budget constraint: 300⋅TV+150⋅M ≤ 3600\n",
    "    [90, 30],    # Planning Cost constraint: 90⋅TV+30⋅M ≤ 1200\n",
    "]\n",
    "\n",
    "# Right-hand side of inequality constraints\n",
    "b = [3600, 1200]\n",
    "\n",
    "# Bounds for the decision variables\n",
    "x_bounds = (0, None)  # TV >= 0\n",
    "y_bounds = (0, None)  # M >= 0\n",
    "\n",
    "# Solve the linear programming problem\n",
    "result = linprog(c, A_ub=A, b_ub=b, bounds=[x_bounds, y_bounds], method=\"highs\")\n",
    "\n",
    "# Display results\n",
    "if result.success:\n",
    "    print(f\"Optimal solution found:\")\n",
    "    print(f\"Number of TV commercials (TV): {result.x[0]:.2f}\")\n",
    "    print(f\"Number of magazine ads (M): {result.x[1]:.2f}\")\n",
    "    print(f\"Maximum exposure: {-result.fun:.2f}\")  # Negate the result for maximization\n",
    "else:\n",
    "    print(\"Optimization failed:\", result.message)\n"
   ]
  },
  {
   "cell_type": "markdown",
   "metadata": {},
   "source": [
    "## Q5: dual problem"
   ]
  },
  {
   "cell_type": "markdown",
   "metadata": {},
   "source": [
    "![primal](pictures/primal.png)\n",
    "![dual](pictures/dual.png)"
   ]
  },
  {
   "cell_type": "code",
   "execution_count": 1,
   "metadata": {},
   "outputs": [
    {
     "name": "stdout",
     "output_type": "stream",
     "text": [
      "Optimal solution found:\n",
      "Optimal value: 14.00\n",
      "y1: 1.00\n",
      "y2: 1.00\n"
     ]
    }
   ],
   "source": [
    "from scipy.optimize import linprog\n",
    "\n",
    "# Step 1: Define the coefficients of the objective function (negative for maximization)\n",
    "c = [-8, -6]  # Coefficients of the dual objective (maximize 8y1 + 6y2, hence negative)\n",
    "\n",
    "# Step 2: Define the inequality constraints (G and h in the form Gx <= h)\n",
    "A = [\n",
    "    [2, 1],   # Coefficients for y1 and y2 in the first constraint\n",
    "    [1, 1]    # Coefficients for y1 and y2 in the second constraint\n",
    "]\n",
    "b = [3, 2]  # Right-hand side of the inequality constraints\n",
    "\n",
    "# Step 3: Define the bounds for the variables (y1 >= 0, y2 >= 0)\n",
    "bounds = [(0, None), (0, None)]  # Both y1 and y2 must be non-negative\n",
    "\n",
    "# Step 4: Solve the linear programming problem\n",
    "result = linprog(c, A_ub=A, b_ub=b, bounds=bounds, method=\"highs\")\n",
    "\n",
    "# Step 5: Display the results\n",
    "if result.success:\n",
    "    print(\"Optimal solution found:\")\n",
    "    print(f\"Optimal value: {-result.fun:.2f}\")  # Negate to match maximization\n",
    "    print(f\"y1: {result.x[0]:.2f}\")\n",
    "    print(f\"y2: {result.x[1]:.2f}\")\n",
    "else:\n",
    "    print(\"Optimization failed:\", result.message)\n"
   ]
  },
  {
   "cell_type": "code",
   "execution_count": null,
   "metadata": {},
   "outputs": [],
   "source": []
  },
  {
   "cell_type": "markdown",
   "metadata": {},
   "source": [
    "## Q6: Integer programming"
   ]
  },
  {
   "cell_type": "markdown",
   "metadata": {},
   "source": [
    "![ip1](pictures/ip1.png)\n",
    "![ip2](pictures/ip2.png)"
   ]
  },
  {
   "cell_type": "code",
   "execution_count": 1,
   "metadata": {},
   "outputs": [
    {
     "name": "stdout",
     "output_type": "stream",
     "text": [
      "Optimal solution found:\n",
      "Optimal value (maximum compatibility): 14.0\n",
      "Matchings:\n",
      "Man 1 matched with Woman 3\n",
      "Man 2 matched with Woman 1\n",
      "Man 3 matched with Woman 2\n"
     ]
    }
   ],
   "source": [
    "from scipy.optimize import linprog\n",
    "\n",
    "# Step 1: Define the weights matrix (w_ij)\n",
    "weights = [\n",
    "    [1, 3, 5],  # Scores for man 1\n",
    "    [4, 2, 2],  # Scores for man 2\n",
    "    [1, 5, 3]   # Scores for man 3\n",
    "]\n",
    "\n",
    "# Step 2: Flatten the weights matrix into a vector for the objective function\n",
    "c = [-w for row in weights for w in row]  # Negative for maximization\n",
    "\n",
    "# Step 3: Define the equality constraints\n",
    "# Each man matches with exactly one woman\n",
    "A_eq = []\n",
    "for i in range(3):\n",
    "    row = [0] * 9\n",
    "    row[i * 3:(i + 1) * 3] = [1, 1, 1]\n",
    "    A_eq.append(row)\n",
    "\n",
    "# Each woman matches with exactly one man\n",
    "for j in range(3):\n",
    "    row = [0] * 9\n",
    "    for i in range(3):\n",
    "        row[i * 3 + j] = 1\n",
    "    A_eq.append(row)\n",
    "\n",
    "b_eq = [1] * 6  # Every man and woman matches exactly once\n",
    "\n",
    "# Step 4: Define bounds for decision variables (0 <= x_ij <= 1)\n",
    "bounds = [(0, 1) for _ in range(9)]\n",
    "\n",
    "# Step 5: Solve the linear programming problem\n",
    "result = linprog(c, A_eq=A_eq, b_eq=b_eq, bounds=bounds, method='highs')\n",
    "\n",
    "# Step 6: Display the results\n",
    "if result.success:\n",
    "    print(\"Optimal solution found:\")\n",
    "    x_values = result.x.reshape((3, 3))  # Reshape back to 3x3 for clarity\n",
    "    optimal_value = -result.fun  # Negate to match maximization\n",
    "    print(f\"Optimal value (maximum compatibility): {optimal_value}\")\n",
    "    print(\"Matchings:\")\n",
    "    for i in range(3):\n",
    "        for j in range(3):\n",
    "            if round(x_values[i][j]) == 1:  # Binary variable rounding\n",
    "                print(f\"Man {i+1} matched with Woman {j+1}\")\n",
    "else:\n",
    "    print(\"Optimization failed:\", result.message)\n"
   ]
  },
  {
   "cell_type": "code",
   "execution_count": null,
   "metadata": {},
   "outputs": [],
   "source": []
  }
 ],
 "metadata": {
  "kernelspec": {
   "display_name": "base",
   "language": "python",
   "name": "python3"
  },
  "language_info": {
   "codemirror_mode": {
    "name": "ipython",
    "version": 3
   },
   "file_extension": ".py",
   "mimetype": "text/x-python",
   "name": "python",
   "nbconvert_exporter": "python",
   "pygments_lexer": "ipython3",
   "version": "3.12.4"
  }
 },
 "nbformat": 4,
 "nbformat_minor": 2
}
