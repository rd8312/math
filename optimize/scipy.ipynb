{
 "cells": [
  {
   "cell_type": "markdown",
   "metadata": {},
   "source": [
    "# Optimization (scipy.optimize)\n",
    "- 用於求非線性規劃問題的解，將問題表述為若干個變量的 純量函數(Scalar Function, e.g. P(x,y) Q(x, y))的最小值\n",
    "- https://docs.scipy.org/doc/scipy/tutorial/optimize.html"
   ]
  },
  {
   "cell_type": "markdown",
   "metadata": {},
   "source": [
    "![function_1](pictures/fn1.png)"
   ]
  },
  {
   "cell_type": "code",
   "execution_count": 2,
   "metadata": {},
   "outputs": [
    {
     "name": "stdout",
     "output_type": "stream",
     "text": [
      "最小函數值: 2.0000000815356342\n",
      "對應的 x 值: 1.000285585222987\n"
     ]
    }
   ],
   "source": [
    "# ref: https://0809zheng.github.io/2021/08/23/minimize.html\n",
    "from scipy.optimize import minimize\n",
    "import numpy as np\n",
    "\n",
    "# minimize a function\n",
    "def fun(x):\n",
    "    return x+1/x\n",
    "\n",
    "x0 = np.array([2])\n",
    "res = minimize(fun, x0, method='SLSQP')\n",
    "# 輸出最小函數值和對應的 x 值\n",
    "print(f\"最小函數值: {res.fun}\")\n",
    "print(f\"對應的 x 值: {res.x[0]}\")"
   ]
  },
  {
   "cell_type": "markdown",
   "metadata": {},
   "source": [
    "![function_2](pictures/fn2.png)"
   ]
  },
  {
   "cell_type": "code",
   "execution_count": 6,
   "metadata": {},
   "outputs": [
    {
     "name": "stdout",
     "output_type": "stream",
     "text": [
      "-0.773684210526435\n",
      "[0.9 0.9 0.1]\n"
     ]
    }
   ],
   "source": [
    "from scipy.optimize import minimize\n",
    "import numpy as np\n",
    "\n",
    "# minimize a function with constraints\n",
    "def fn(x):\n",
    "    return (2+x[0])/(1+x[1])-3*x[0]+4*x[2]\n",
    "\n",
    "# initial guess\n",
    "x0 = np.array([0.5,0.5,0.5])\n",
    "\n",
    "# constraints\n",
    "# {Constraint, dict} or List of {Constraint, dict}, optional：約束條件，僅在SLSQP, COBYLA, trust-constr中使用\n",
    "# 约束以字典的形式给出，其keys包含：\n",
    "# type: str：约束类型。\"eq\" 等於0, \"ineq\" 大於等於 0\n",
    "# fun: callable：约束函数, 限制在 [0.1, 0.9] 之間\n",
    "cons = [{'type':'ineq', 'fun':lambda x:x[0]-0.1},\n",
    "        {'type':'ineq', 'fun':lambda x:-x[0]+0.9},\n",
    "        {'type':'ineq', 'fun':lambda x:x[1]-0.1},\n",
    "        {'type':'ineq', 'fun':lambda x:-x[1]+0.9},\n",
    "        {'type':'ineq', 'fun':lambda x:x[2]-0.1},\n",
    "        {'type':'ineq', 'fun':lambda x:-x[2]+0.9}]\n",
    "\n",
    "# minimize\n",
    "res = minimize(fn, x0, method='SLSQP', constraints=cons)\n",
    "print(res.fun)\n",
    "print(res.x)"
   ]
  },
  {
   "cell_type": "markdown",
   "metadata": {},
   "source": [
    "![function_3](pictures/fn3.png)"
   ]
  },
  {
   "cell_type": "code",
   "execution_count": 7,
   "metadata": {},
   "outputs": [
    {
     "name": "stdout",
     "output_type": "stream",
     "text": [
      "9.763212360886708\n",
      "[77.5        20.66666658]\n"
     ]
    }
   ],
   "source": [
    "from scipy.optimize import minimize\n",
    "import numpy as np\n",
    "\n",
    "def fn(x):\n",
    "    return np.log2(1+x[0]*2/3)+np.log2(1+x[1]*3/4)\n",
    "\n",
    "x0 = np.array([0.5,0.5])\n",
    "\n",
    "cons = [{'type':'ineq', 'fun':lambda x:np.log2(1+x[0]*2/5)-5},\n",
    "        {'type':'ineq', 'fun':lambda x:np.log2(1+x[1]*3/2)-5}]\n",
    "\n",
    "res = minimize(fn, x0, method='SLSQP', constraints=cons)\n",
    "print(res.fun)\n",
    "print(res.x)"
   ]
  },
  {
   "cell_type": "code",
   "execution_count": 11,
   "metadata": {},
   "outputs": [
    {
     "name": "stdout",
     "output_type": "stream",
     "text": [
      "-1.999999999777818\n",
      "13.0\n"
     ]
    }
   ],
   "source": [
    "# ref: https://web.ntnu.edu.tw/~tsungwu/Python_DevOps/Part1_Basics&Math/section3_optimization.html\n",
    "# 單變數: minimize_scalar\n",
    "# 極大值的解，根據scipy說明文件，須把函數取負值 (sign=-1) 來找極大值\n",
    "def f(x, sign=-1):\n",
    "        return sign*(2*x**3+3*x**2-12*x-7)\n",
    "\n",
    "from scipy.optimize import minimize_scalar\n",
    "Result = minimize_scalar(f)\n",
    "print(Result.x)\n",
    "\n",
    "# 極大值: 須把負號加回來\n",
    "print(-Result.fun)"
   ]
  },
  {
   "cell_type": "code",
   "execution_count": 13,
   "metadata": {},
   "outputs": [
    {
     "name": "stdout",
     "output_type": "stream",
     "text": [
      "[1.33333404 1.3333353 ]\n",
      "-1.1851851851810147\n"
     ]
    }
   ],
   "source": [
    "# 多變數: minimize\n",
    "# 求相對極小值\n",
    "def f(x, sign=1):\n",
    "    x1 = x[0]\n",
    "    x2 = x[1]\n",
    "    return sign*(x1**3-4*x1*x2 +2*x2**2)\n",
    "\n",
    "x0=[1,1]\n",
    "Result = minimize(f, x0)\n",
    "\n",
    "print(Result.x)\n",
    "print(Result.fun)"
   ]
  },
  {
   "cell_type": "code",
   "execution_count": null,
   "metadata": {},
   "outputs": [],
   "source": []
  }
 ],
 "metadata": {
  "kernelspec": {
   "display_name": "gpu",
   "language": "python",
   "name": "python3"
  },
  "language_info": {
   "codemirror_mode": {
    "name": "ipython",
    "version": 3
   },
   "file_extension": ".py",
   "mimetype": "text/x-python",
   "name": "python",
   "nbconvert_exporter": "python",
   "pygments_lexer": "ipython3",
   "version": "3.9.18"
  }
 },
 "nbformat": 4,
 "nbformat_minor": 2
}
